{
  "nbformat": 4,
  "nbformat_minor": 0,
  "metadata": {
    "colab": {
      "provenance": [],
      "authorship_tag": "ABX9TyOpBW8InJSi15NOwpJgueiy",
      "include_colab_link": true
    },
    "kernelspec": {
      "name": "python3",
      "display_name": "Python 3"
    },
    "language_info": {
      "name": "python"
    }
  },
  "cells": [
    {
      "cell_type": "markdown",
      "metadata": {
        "id": "view-in-github",
        "colab_type": "text"
      },
      "source": [
        "<a href=\"https://colab.research.google.com/github/HadiaFathima/AI-LAB-HADIA-106/blob/main/1BM22CS106_Week5_SimulatedAnnealing.ipynb\" target=\"_parent\"><img src=\"https://colab.research.google.com/assets/colab-badge.svg\" alt=\"Open In Colab\"/></a>"
      ]
    },
    {
      "cell_type": "code",
      "source": [
        "import numpy as np\n",
        "import random\n",
        "import math\n",
        "\n",
        "def queens_max(position):\n",
        "    no_attack_on_j = 0\n",
        "    queen_not_attacking = 0\n",
        "\n",
        "    for i in range(len(position) - 1):\n",
        "        no_attack_on_j = 0\n",
        "        for j in range(i + 1, len(position)):\n",
        "            if (position[j] != position[i]) and (position[j] != position[i] + (j - i)) and (position[j] != position[i] - (j - i)):\n",
        "                no_attack_on_j += 1\n",
        "                if no_attack_on_j == len(position) - 1 - i:\n",
        "                    queen_not_attacking += 1\n",
        "\n",
        "    if queen_not_attacking == 7:\n",
        "        queen_not_attacking += 1\n",
        "    return queen_not_attacking\n",
        "\n",
        "def generate_neighbor(state):\n",
        "    neighbor = state.copy()\n",
        "    i, j = random.sample(range(len(state)), 2)\n",
        "    neighbor[i], neighbor[j] = neighbor[j], neighbor[i]\n",
        "    return neighbor\n",
        "\n",
        "def simulated_annealing(initial_state, max_attempts, max_iters, decay_rate):\n",
        "    current_state = initial_state\n",
        "    current_score = queens_max(current_state)\n",
        "    best_state = current_state\n",
        "    best_score = current_score\n",
        "    temperature = 1.0\n",
        "\n",
        "    for iteration in range(max_iters):\n",
        "        if temperature <= 0.01:\n",
        "            break\n",
        "\n",
        "        for attempt in range(max_attempts):\n",
        "            neighbor_state = generate_neighbor(current_state)\n",
        "            neighbor_score = queens_max(neighbor_state)\n",
        "            delta = neighbor_score - current_score\n",
        "\n",
        "            if delta > 0 or random.random() < math.exp(delta / temperature):\n",
        "                current_state = neighbor_state\n",
        "                current_score = neighbor_score\n",
        "\n",
        "                if current_score > best_score:\n",
        "                    best_state = current_state\n",
        "                    best_score = current_score\n",
        "\n",
        "        temperature *= decay_rate\n",
        "\n",
        "    return best_state, best_score\n",
        "\n",
        "initial_position = np.array([4, 6, 1, 5, 2, 0, 3, 7])\n",
        "max_attempts = 500\n",
        "max_iters = 5000\n",
        "decay_rate = 0.99\n",
        "\n",
        "best_position, best_objective = simulated_annealing(initial_position, max_attempts, max_iters, decay_rate)\n",
        "\n",
        "print('The best position found is: ', best_position)\n",
        "print('The number of queens that are not attacking each other is: ', best_objective)\n"
      ],
      "metadata": {
        "colab": {
          "base_uri": "https://localhost:8080/"
        },
        "id": "a_IMqeRFCfIy",
        "outputId": "dd6d619b-bf86-45ce-fec2-af1a02f583a7"
      },
      "execution_count": 2,
      "outputs": [
        {
          "output_type": "stream",
          "name": "stdout",
          "text": [
            "The best position found is:  [4 6 1 5 2 0 3 7]\n",
            "The number of queens that are not attacking each other is:  8\n"
          ]
        }
      ]
    }
  ]
}