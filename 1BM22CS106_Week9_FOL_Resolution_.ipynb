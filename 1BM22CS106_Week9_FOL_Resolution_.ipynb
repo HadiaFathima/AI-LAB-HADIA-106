{
  "nbformat": 4,
  "nbformat_minor": 0,
  "metadata": {
    "colab": {
      "provenance": [],
      "authorship_tag": "ABX9TyNwrQGiK3Obt0gGXrXcMhgB",
      "include_colab_link": true
    },
    "kernelspec": {
      "name": "python3",
      "display_name": "Python 3"
    },
    "language_info": {
      "name": "python"
    }
  },
  "cells": [
    {
      "cell_type": "markdown",
      "metadata": {
        "id": "view-in-github",
        "colab_type": "text"
      },
      "source": [
        "<a href=\"https://colab.research.google.com/github/HadiaFathima/AI-LAB-HADIA-106/blob/main/1BM22CS106_Week9_FOL_Resolution_.ipynb\" target=\"_parent\"><img src=\"https://colab.research.google.com/assets/colab-badge.svg\" alt=\"Open In Colab\"/></a>"
      ]
    },
    {
      "cell_type": "code",
      "execution_count": 5,
      "metadata": {
        "colab": {
          "base_uri": "https://localhost:8080/"
        },
        "id": "B0s4Qj0VSRx3",
        "outputId": "d0aa2608-8655-47df-fe60-441df2836fb1"
      },
      "outputs": [
        {
          "output_type": "stream",
          "name": "stdout",
          "text": [
            "Proven: John likes peanuts.\n"
          ]
        }
      ],
      "source": [
        "from pyswip import Prolog\n",
        "\n",
        "# Initialize Prolog engine\n",
        "prolog = Prolog()\n",
        "\n",
        "# Knowledge base\n",
        "# a. If something is food, John likes it\n",
        "prolog.assertz(\"likes(john, X) :- food(X)\")\n",
        "\n",
        "# b. Apple and vegetables are food\n",
        "prolog.assertz(\"food(apple)\")\n",
        "prolog.assertz(\"food(vegetables)\")\n",
        "\n",
        "# c. Anything someone eats and is not killed is food\n",
        "prolog.assertz(\"food(Z) :- eats(Y, Z), not_killed(Y)\")\n",
        "\n",
        "# d. Anil eats peanuts\n",
        "prolog.assertz(\"eats(anil, peanuts)\")\n",
        "\n",
        "# e. Anil is alive\n",
        "prolog.assertz(\"alive(anil)\")\n",
        "\n",
        "# f. If someone is alive, they are not killed\n",
        "prolog.assertz(\"not_killed(X) :- alive(X)\")\n",
        "\n",
        "# Query to prove: John likes peanuts\n",
        "query = \"likes(john, peanuts)\"\n",
        "\n",
        "# Check if the query can be proven\n",
        "result = list(prolog.query(query))\n",
        "\n",
        "# Output the result\n",
        "if result:\n",
        "    print(\"Proven: John likes peanuts.\")\n",
        "else:\n",
        "    print(\"Cannot prove that John likes peanuts.\")\n"
      ]
    }
  ]
}