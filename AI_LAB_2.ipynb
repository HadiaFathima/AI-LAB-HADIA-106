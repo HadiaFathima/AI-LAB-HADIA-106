{
  "nbformat": 4,
  "nbformat_minor": 0,
  "metadata": {
    "colab": {
      "provenance": [],
      "authorship_tag": "ABX9TyPY2x7t0LfrjvQwiDHA6yd+",
      "include_colab_link": true
    },
    "kernelspec": {
      "name": "python3",
      "display_name": "Python 3"
    },
    "language_info": {
      "name": "python"
    }
  },
  "cells": [
    {
      "cell_type": "markdown",
      "metadata": {
        "id": "view-in-github",
        "colab_type": "text"
      },
      "source": [
        "<a href=\"https://colab.research.google.com/github/HadiaFathima/AI-LAB-HADIA-106/blob/main/AI_LAB_2.ipynb\" target=\"_parent\"><img src=\"https://colab.research.google.com/assets/colab-badge.svg\" alt=\"Open In Colab\"/></a>"
      ]
    },
    {
      "cell_type": "code",
      "execution_count": 2,
      "metadata": {
        "colab": {
          "base_uri": "https://localhost:8080/"
        },
        "id": "8QwA56CFPn5R",
        "outputId": "7543e29e-248b-44a1-9d1e-8a2f47032043"
      },
      "outputs": [
        {
          "output_type": "stream",
          "name": "stdout",
          "text": [
            "Enter the starting configuration of the 8-puzzle as 9 numbers (0 represents the empty space):\n",
            "Enter numbers separated by spaces (e.g., 1 2 3 4 5 6 0 7 8): 1 8 2 0 4 3 7 6 5 \n",
            "Solution found in 9 moves:\n",
            "[1, 8, 2, 0, 4, 3, 7, 6, 5]\n",
            "[1, 8, 2, 4, 0, 3, 7, 6, 5]\n",
            "[1, 0, 2, 4, 8, 3, 7, 6, 5]\n",
            "[1, 2, 0, 4, 8, 3, 7, 6, 5]\n",
            "[1, 2, 3, 4, 8, 0, 7, 6, 5]\n",
            "[1, 2, 3, 4, 8, 5, 7, 6, 0]\n",
            "[1, 2, 3, 4, 8, 5, 7, 0, 6]\n",
            "[1, 2, 3, 4, 0, 5, 7, 8, 6]\n",
            "[1, 2, 3, 4, 5, 0, 7, 8, 6]\n",
            "[1, 2, 3, 4, 5, 6, 7, 8, 0]\n"
          ]
        }
      ],
      "source": [
        "#BFS\n",
        "from collections import deque\n",
        "\n",
        "def is_goal(state):\n",
        "    return state == [1, 2, 3, 4, 5, 6, 7, 8, 0]\n",
        "\n",
        "def get_neighbors(state):\n",
        "    neighbors = []\n",
        "    zero_index = state.index(0)\n",
        "    row, col = zero_index // 3, zero_index % 3\n",
        "    moves = [(-1, 0), (1, 0), (0, -1), (0, 1)]\n",
        "\n",
        "    for move in moves:\n",
        "        new_row, new_col = row + move[0], col + move[1]\n",
        "        if 0 <= new_row < 3 and 0 <= new_col < 3:\n",
        "            new_zero_index = new_row * 3 + new_col\n",
        "            new_state = state[:]\n",
        "            new_state[zero_index], new_state[new_zero_index] = new_state[new_zero_index], new_state[zero_index]\n",
        "            neighbors.append(new_state)\n",
        "\n",
        "    return neighbors\n",
        "\n",
        "def bfs(start):\n",
        "    queue = deque([start])\n",
        "    visited = set()\n",
        "    visited.add(tuple(start))\n",
        "    parent_map = {tuple(start): None}\n",
        "\n",
        "    while queue:\n",
        "        current_state = queue.popleft()\n",
        "\n",
        "        if is_goal(current_state):\n",
        "            return reconstruct_path(parent_map, current_state)\n",
        "\n",
        "        for neighbor in get_neighbors(current_state):\n",
        "            if tuple(neighbor) not in visited:\n",
        "                visited.add(tuple(neighbor))\n",
        "                parent_map[tuple(neighbor)] = current_state\n",
        "                queue.append(neighbor)\n",
        "\n",
        "    return None\n",
        "\n",
        "def reconstruct_path(parent_map, goal_state):\n",
        "    path = []\n",
        "    while goal_state is not None:\n",
        "        path.append(goal_state)\n",
        "        goal_state = parent_map[tuple(goal_state)]\n",
        "    return path[::-1]\n",
        "\n",
        "def get_user_input():\n",
        "    print(\"Enter the starting configuration of the 8-puzzle as 9 numbers (0 represents the empty space):\")\n",
        "    input_list = input(\"Enter numbers separated by spaces (e.g., 1 2 3 4 5 6 0 7 8): \")\n",
        "    start_state = list(map(int, input_list.split()))\n",
        "\n",
        "    if len(start_state) != 9 or sorted(start_state) != list(range(9)):\n",
        "        print(\"Invalid input. Please enter exactly 9 numbers between 0 and 8.\")\n",
        "        return get_user_input()\n",
        "\n",
        "    return start_state\n",
        "\n",
        "def main():\n",
        "    start_state = get_user_input()\n",
        "    solution = bfs(start_state)\n",
        "\n",
        "    if solution:\n",
        "        print(\"Solution found in\", len(solution) - 1, \"moves:\")\n",
        "        for step in solution:\n",
        "            print(step)\n",
        "    else:\n",
        "        print(\"No solution exists.\")\n",
        "\n",
        "if __name__ == \"__main__\":\n",
        "    main()\n"
      ]
    },
    {
      "cell_type": "code",
      "source": [
        "#DFS\n",
        "from collections import deque\n",
        "\n",
        "GOAL_STATE = (1, 2, 3, 4, 5, 6, 7, 8, 0)\n",
        "\n",
        "MOVES = {\n",
        "    0: [1, 3],\n",
        "    1: [-1, 1, 3],\n",
        "    2: [-1, 1, 3],\n",
        "    3: [1, 3, 1],\n",
        "    4: [-1, 1, 3, 1],\n",
        "    5: [-1, 1, 3],\n",
        "    6: [1, 3],\n",
        "    7: [-1, 1, 3],\n",
        "    8: [-1, 1]\n",
        "}\n",
        "\n",
        "def get_possible_moves(state):\n",
        "    zero_index = state.index(0)\n",
        "    possible_moves = []\n",
        "    for move in MOVES[zero_index]:\n",
        "        new_index = zero_index + move\n",
        "        if 0 <= new_index < 9 and not (zero_index % 3 == 0 and move == -1) and not (zero_index % 3 == 2 and move == 1):\n",
        "            possible_moves.append(new_index)\n",
        "    return possible_moves\n",
        "\n",
        "def swap(state, i, j):\n",
        "    state_list = list(state)\n",
        "    state_list[i], state_list[j] = state_list[j], state_list[i]\n",
        "    return tuple(state_list)\n",
        "\n",
        "def dfs(start_state):\n",
        "    stack = [(start_state, [])]\n",
        "    visited = set()\n",
        "\n",
        "    while stack:\n",
        "        current_state, path = stack.pop()\n",
        "\n",
        "        if current_state == GOAL_STATE:\n",
        "            return path\n",
        "\n",
        "        visited.add(current_state)\n",
        "\n",
        "        for move in get_possible_moves(current_state):\n",
        "            new_state = swap(current_state, current_state.index(0), move)\n",
        "            if new_state not in visited:\n",
        "                stack.append((new_state, path + [new_state]))\n",
        "\n",
        "    return None\n",
        "\n",
        "def get_initial_state():\n",
        "    print(\"Enter the initial state of the 8-puzzle (0 for empty space):\")\n",
        "    print(\"Provide 9 numbers separated by spaces (e.g., 1 2 3 4 5 6 7 8 0):\")\n",
        "\n",
        "    while True:\n",
        "        try:\n",
        "            input_state = list(map(int, input().strip().split()))\n",
        "            if len(input_state) != 9 or set(input_state) != set(range(9)):\n",
        "                print(\"Invalid input. Please enter 9 unique numbers from 0 to 8.\")\n",
        "                continue\n",
        "            return tuple(input_state)\n",
        "        except ValueError:\n",
        "            print(\"Invalid input. Please enter numbers only.\")\n",
        "\n",
        "if __name__ == \"__main__\":\n",
        "    initial_state = get_initial_state()\n",
        "    solution = dfs(initial_state)\n",
        "\n",
        "    if solution:\n",
        "        print(\"Solution found:\")\n",
        "        for state in solution:\n",
        "            print(state)\n",
        "    else:\n",
        "        print(\"No solution exists.\")"
      ],
      "metadata": {
        "colab": {
          "base_uri": "https://localhost:8080/"
        },
        "id": "koPjGNrgR4Ht",
        "outputId": "286f940b-6897-4353-dd5c-aa350a41d964"
      },
      "execution_count": 12,
      "outputs": [
        {
          "output_type": "stream",
          "name": "stdout",
          "text": [
            "Enter the initial state of the 8-puzzle (0 for empty space):\n",
            "Provide 9 numbers separated by spaces (e.g., 1 2 3 4 5 6 7 8 0):\n",
            "1 2 3 4 0 5 7 8 6\n",
            "Solution found:\n",
            "(1, 2, 3, 4, 5, 0, 7, 8, 6)\n",
            "(1, 2, 3, 4, 5, 6, 7, 8, 0)\n"
          ]
        }
      ]
    }
  ]
}